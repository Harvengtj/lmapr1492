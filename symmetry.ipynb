{
 "cells": [
  {
   "cell_type": "markdown",
   "id": "6b3e4f68",
   "metadata": {},
   "source": [
    "# Symétrie : ScSbPd (Harvengt Justin)"
   ]
  },
  {
   "cell_type": "code",
   "execution_count": 50,
   "id": "c6152535",
   "metadata": {},
   "outputs": [],
   "source": [
    "import numpy as np\n",
    "from pymatgen.ext.matproj import MPRester\n",
    "from pymatgen.core.operations import SymmOp\n",
    "from pymatgen.symmetry.analyzer import SpacegroupAnalyzer\n",
    "from jupyter_jsmol.pymatgen import quick_view\n",
    "from plotly.subplots import make_subplots\n"
   ]
  },
  {
   "cell_type": "markdown",
   "id": "5d869461",
   "metadata": {},
   "source": [
    "## Downloading"
   ]
  },
  {
   "cell_type": "code",
   "execution_count": 51,
   "id": "f90c6462",
   "metadata": {},
   "outputs": [],
   "source": [
    "mp_key = \"XJhzTsEnBSh1B3Uh2ARw9cKQZuE9Q90J\"\n",
    "mp_id = \"mp-569779\""
   ]
  },
  {
   "cell_type": "code",
   "execution_count": 52,
   "id": "7e4553a6",
   "metadata": {},
   "outputs": [
    {
     "data": {
      "application/vnd.jupyter.widget-view+json": {
       "model_id": "19c62146276249e98707a6d2e4ebd34f",
       "version_major": 2,
       "version_minor": 0
      },
      "text/plain": [
       "Retrieving MaterialsDoc documents:   0%|          | 0/1 [00:00<?, ?it/s]"
      ]
     },
     "metadata": {},
     "output_type": "display_data"
    }
   ],
   "source": [
    "with MPRester(mp_key) as m:\n",
    "    prim_struc = m.get_structure_by_material_id(mp_id)\n",
    "conv_struc = SpacegroupAnalyzer(prim_struc).get_conventional_standard_structure()\n",
    "symmops = SpacegroupAnalyzer(conv_struc).get_space_group_operations()"
   ]
  },
  {
   "cell_type": "markdown",
   "id": "39162218",
   "metadata": {},
   "source": [
    "## Opérations de symétrie"
   ]
  },
  {
   "cell_type": "code",
   "execution_count": 53,
   "id": "68f46fb9",
   "metadata": {},
   "outputs": [
    {
     "data": {
      "application/vnd.jupyter.widget-view+json": {
       "model_id": "b9979d9b222448aca3568be6c49e0e5d",
       "version_major": 2,
       "version_minor": 0
      },
      "text/plain": [
       "JsmolView(layout=Layout(align_self='stretch', height='400px'))"
      ]
     },
     "metadata": {},
     "output_type": "display_data"
    }
   ],
   "source": [
    "# Trois atomes du cristal exprimés via les coordonnées de la maille conventionnelle\n",
    "posSc = [0.0, 0.5, 0.0]\n",
    "posSb = [0.5, 0.5, 0.0]\n",
    "posPd = [0.25, 0.75, 0.75]\n",
    "\n",
    "# Positions\n",
    "positions = [(\"Sc\",posSc), (\"Sb\",posSb), (\"Pd\",posPd)]\n",
    "\n",
    "view = quick_view(prim_struc, \"packed\", conventional = True)\n",
    "display(view)"
   ]
  },
  {
   "cell_type": "markdown",
   "id": "6c94544f",
   "metadata": {},
   "source": [
    "### Première opération de symétrie"
   ]
  },
  {
   "cell_type": "code",
   "execution_count": 54,
   "id": "65f68b2b",
   "metadata": {},
   "outputs": [
    {
     "name": "stdout",
     "output_type": "stream",
     "text": [
      "Sc\n",
      "Position initiale : [0.0, 0.5, 0.0]\n",
      "Position finale : [ 0.  -0.5  0. ] \n",
      "\n",
      "Sb\n",
      "Position initiale : [0.5, 0.5, 0.0]\n",
      "Position finale : [0. 0. 0.] \n",
      "\n",
      "Pd\n",
      "Position initiale : [0.25, 0.75, 0.75]\n",
      "Position finale : [-0.25 -0.25  0.75] \n",
      "\n"
     ]
    }
   ],
   "source": [
    "# Matrice de rotation de 90 degrés autour de l'axe z\n",
    "rotation_matrix = np.array([[0, -1, 0],\n",
    "                            [1, 0, 0],\n",
    "                            [0, 0, 1]])\n",
    "\n",
    "# Vecteur de translation [0.5, -0.5, 0]\n",
    "translation_vector = np.array([0.5, -0.5, 0])\n",
    "\n",
    "# Rajout d'une colonne [0, 0, 0, 1] pour obtenir une matrice 4x4 (car sinon problème!)\n",
    "reshaped_matrix = np.vstack([np.hstack([rotation_matrix, translation_vector.reshape(-1, 1)]), [0, 0, 0, 1]])\n",
    "\n",
    "# Création de l'objet SymmOp\n",
    "symm_op = SymmOp(reshaped_matrix)\n",
    "\n",
    "# Boucle sur chaque atome\n",
    "for (atome, position) in positions:\n",
    "    print(atome)\n",
    "    print(\"Position initiale :\", position)\n",
    "    print(\"Position finale :\", symm_op.operate(position), \"\\n\")"
   ]
  },
  {
   "cell_type": "markdown",
   "id": "2dc21705",
   "metadata": {},
   "source": [
    "### Deuxième opération de symétrie"
   ]
  },
  {
   "cell_type": "code",
   "execution_count": 55,
   "id": "fa39a03d",
   "metadata": {},
   "outputs": [
    {
     "name": "stdout",
     "output_type": "stream",
     "text": [
      "Sc\n",
      "Position initiale : [0.0, 0.5, 0.0]\n",
      "Position finale : [ 0.  -0.5  0. ] \n",
      "\n",
      "Sb\n",
      "Position initiale : [0.5, 0.5, 0.0]\n",
      "Position finale : [ 0.5 -0.5  0. ] \n",
      "\n",
      "Pd\n",
      "Position initiale : [0.25, 0.75, 0.75]\n",
      "Position finale : [ 0.25 -0.75  0.75] \n",
      "\n"
     ]
    }
   ],
   "source": [
    "# Opérateur de réflection\n",
    "reflexion_matrix = np.array([[1, 0, 0, 0],\n",
    "                            [0, -1, 0, 0],\n",
    "                            [0, 0, 1, 0],\n",
    "                            [0, 0, 0, 1]])\n",
    "\n",
    "\n",
    "\n",
    "# Création de l'objet SymmOp\n",
    "symm_op = SymmOp(reflexion_matrix)\n",
    "\n",
    "# Boucle sur chaque atome\n",
    "for (atome, position) in positions:\n",
    "    print(atome)\n",
    "    print(\"Position initiale :\", position)\n",
    "    print(\"Position finale :\", symm_op.operate(position), \"\\n\")"
   ]
  },
  {
   "cell_type": "markdown",
   "id": "3880ee81",
   "metadata": {},
   "source": [
    "### Troisième opération de symétrie"
   ]
  },
  {
   "cell_type": "code",
   "execution_count": 56,
   "id": "19db1d93",
   "metadata": {},
   "outputs": [
    {
     "name": "stdout",
     "output_type": "stream",
     "text": [
      "Sc\n",
      "Position initiale : [0.0, 0.5, 0.0]\n",
      "Position finale : [ 0.  -0.5  0. ] \n",
      "\n",
      "Sb\n",
      "Position initiale : [0.5, 0.5, 0.0]\n",
      "Position finale : [-0.5 -0.5  0. ] \n",
      "\n",
      "Pd\n",
      "Position initiale : [0.25, 0.75, 0.75]\n",
      "Position finale : [-0.25 -0.75 -0.75] \n",
      "\n"
     ]
    }
   ],
   "source": [
    "# Opérateur d'inversion\n",
    "inversion_matrix = np.array([[-1, 0, 0, 0],\n",
    "                            [0, -1, 0, 0],\n",
    "                            [0, 0, -1, 0],\n",
    "                            [0, 0, 0, 1]])\n",
    "# Création de l'objet SymmOp\n",
    "symm_op = SymmOp(inversion_matrix)\n",
    "\n",
    "# Boucle sur chaque atome\n",
    "for (atome, position) in positions:\n",
    "    print(atome)\n",
    "    print(\"Position initiale :\", position)\n",
    "    print(\"Position finale :\", symm_op.operate(position), \"\\n\")"
   ]
  }
 ],
 "metadata": {
  "kernelspec": {
   "display_name": "Python 3 (ipykernel)",
   "language": "python",
   "name": "python3"
  },
  "language_info": {
   "codemirror_mode": {
    "name": "ipython",
    "version": 3
   },
   "file_extension": ".py",
   "mimetype": "text/x-python",
   "name": "python",
   "nbconvert_exporter": "python",
   "pygments_lexer": "ipython3",
   "version": "3.9.13"
  }
 },
 "nbformat": 4,
 "nbformat_minor": 5
}
