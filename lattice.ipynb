{
 "cells": [
  {
   "cell_type": "code",
   "execution_count": 1,
   "id": "8e41b492",
   "metadata": {},
   "outputs": [
    {
     "name": "stdout",
     "output_type": "stream",
     "text": [
      "Requirement already satisfied: mp-api in c:\\users\\justi\\anaconda3\\lib\\site-packages (0.40.1)\n",
      "Requirement already satisfied: maggma>=0.57.1 in c:\\users\\justi\\anaconda3\\lib\\site-packages (from mp-api) (0.63.3)\n",
      "Requirement already satisfied: setuptools in c:\\users\\justi\\anaconda3\\lib\\site-packages (from mp-api) (58.0.4)\n",
      "Requirement already satisfied: typing-extensions>=3.7.4.1 in c:\\users\\justi\\anaconda3\\lib\\site-packages (from mp-api) (4.9.0)\n",
      "Requirement already satisfied: msgpack in c:\\users\\justi\\anaconda3\\lib\\site-packages (from mp-api) (1.0.2)\n",
      "Requirement already satisfied: requests>=2.23.0 in c:\\users\\justi\\anaconda3\\lib\\site-packages (from mp-api) (2.26.0)\n",
      "Requirement already satisfied: emmet-core>=0.78.0rc3 in c:\\users\\justi\\anaconda3\\lib\\site-packages (from mp-api) (0.78.0rc4)\n",
      "Requirement already satisfied: monty>=2023.9.25 in c:\\users\\justi\\anaconda3\\lib\\site-packages (from mp-api) (2024.2.2)\n",
      "Requirement already satisfied: pymatgen<2024.2.20,>=2022.3.7 in c:\\users\\justi\\anaconda3\\lib\\site-packages (from mp-api) (2024.2.8)\n",
      "Requirement already satisfied: pydantic>=2.0 in c:\\users\\justi\\anaconda3\\lib\\site-packages (from emmet-core>=0.78.0rc3->mp-api) (2.6.2)\n",
      "Requirement already satisfied: pybtex~=0.24 in c:\\users\\justi\\anaconda3\\lib\\site-packages (from emmet-core>=0.78.0rc3->mp-api) (0.24.0)\n",
      "Requirement already satisfied: pydantic-settings>=2.0 in c:\\users\\justi\\anaconda3\\lib\\site-packages (from emmet-core>=0.78.0rc3->mp-api) (2.2.1)\n",
      "Requirement already satisfied: sshtunnel>=0.1.5 in c:\\users\\justi\\anaconda3\\lib\\site-packages (from maggma>=0.57.1->mp-api) (0.4.0)\n",
      "Requirement already satisfied: numpy>=1.17.3 in c:\\users\\justi\\anaconda3\\lib\\site-packages (from maggma>=0.57.1->mp-api) (1.26.4)\n",
      "Requirement already satisfied: jsonschema>=3.1.1 in c:\\users\\justi\\anaconda3\\lib\\site-packages (from maggma>=0.57.1->mp-api) (3.2.0)\n",
      "Requirement already satisfied: tqdm>=4.19.6 in c:\\users\\justi\\anaconda3\\lib\\site-packages (from maggma>=0.57.1->mp-api) (4.62.3)\n",
      "Requirement already satisfied: mongomock>=3.10.0 in c:\\users\\justi\\anaconda3\\lib\\site-packages (from maggma>=0.57.1->mp-api) (4.1.2)\n",
      "Requirement already satisfied: pydash>=4.1.0 in c:\\users\\justi\\anaconda3\\lib\\site-packages (from maggma>=0.57.1->mp-api) (7.0.7)\n",
      "Requirement already satisfied: pyzmq>=24.0.1 in c:\\users\\justi\\anaconda3\\lib\\site-packages (from maggma>=0.57.1->mp-api) (25.1.2)\n",
      "Requirement already satisfied: dnspython>=1.16.0 in c:\\users\\justi\\anaconda3\\lib\\site-packages (from maggma>=0.57.1->mp-api) (2.6.1)\n",
      "Requirement already satisfied: boto3>=1.20.41 in c:\\users\\justi\\anaconda3\\lib\\site-packages (from maggma>=0.57.1->mp-api) (1.34.49)\n",
      "Requirement already satisfied: uvicorn>=0.18.3 in c:\\users\\justi\\anaconda3\\lib\\site-packages (from maggma>=0.57.1->mp-api) (0.27.1)\n",
      "Requirement already satisfied: aioitertools>=0.5.1 in c:\\users\\justi\\anaconda3\\lib\\site-packages (from maggma>=0.57.1->mp-api) (0.11.0)\n",
      "Requirement already satisfied: python-dateutil>=2.8.2 in c:\\users\\justi\\anaconda3\\lib\\site-packages (from maggma>=0.57.1->mp-api) (2.8.2)\n",
      "Requirement already satisfied: orjson>=3.9.0 in c:\\users\\justi\\anaconda3\\lib\\site-packages (from maggma>=0.57.1->mp-api) (3.9.15)\n",
      "Requirement already satisfied: ruamel.yaml<0.18 in c:\\users\\justi\\anaconda3\\lib\\site-packages (from maggma>=0.57.1->mp-api) (0.17.40)\n",
      "Requirement already satisfied: mongogrant>=0.3.1 in c:\\users\\justi\\anaconda3\\lib\\site-packages (from maggma>=0.57.1->mp-api) (0.3.3)\n",
      "Requirement already satisfied: pymongo>=4.2.0 in c:\\users\\justi\\anaconda3\\lib\\site-packages (from maggma>=0.57.1->mp-api) (4.6.2)\n",
      "Requirement already satisfied: fastapi>=0.42.0 in c:\\users\\justi\\anaconda3\\lib\\site-packages (from maggma>=0.57.1->mp-api) (0.109.2)\n",
      "Requirement already satisfied: s3transfer<0.11.0,>=0.10.0 in c:\\users\\justi\\anaconda3\\lib\\site-packages (from boto3>=1.20.41->maggma>=0.57.1->mp-api) (0.10.0)\n",
      "Requirement already satisfied: botocore<1.35.0,>=1.34.49 in c:\\users\\justi\\anaconda3\\lib\\site-packages (from boto3>=1.20.41->maggma>=0.57.1->mp-api) (1.34.49)\n",
      "Requirement already satisfied: jmespath<2.0.0,>=0.7.1 in c:\\users\\justi\\anaconda3\\lib\\site-packages (from boto3>=1.20.41->maggma>=0.57.1->mp-api) (1.0.1)\n",
      "Requirement already satisfied: urllib3<1.27,>=1.25.4 in c:\\users\\justi\\anaconda3\\lib\\site-packages (from botocore<1.35.0,>=1.34.49->boto3>=1.20.41->maggma>=0.57.1->mp-api) (1.26.7)\n",
      "Requirement already satisfied: starlette<0.37.0,>=0.36.3 in c:\\users\\justi\\anaconda3\\lib\\site-packages (from fastapi>=0.42.0->maggma>=0.57.1->mp-api) (0.36.3)\n",
      "Requirement already satisfied: six>=1.11.0 in c:\\users\\justi\\anaconda3\\lib\\site-packages (from jsonschema>=3.1.1->maggma>=0.57.1->mp-api) (1.16.0)\n",
      "Requirement already satisfied: attrs>=17.4.0 in c:\\users\\justi\\anaconda3\\lib\\site-packages (from jsonschema>=3.1.1->maggma>=0.57.1->mp-api) (21.2.0)\n",
      "Requirement already satisfied: pyrsistent>=0.14.0 in c:\\users\\justi\\anaconda3\\lib\\site-packages (from jsonschema>=3.1.1->maggma>=0.57.1->mp-api) (0.18.0)\n",
      "Requirement already satisfied: Click in c:\\users\\justi\\anaconda3\\lib\\site-packages (from mongogrant>=0.3.1->maggma>=0.57.1->mp-api) (8.0.3)\n",
      "Requirement already satisfied: Flask>=1.0 in c:\\users\\justi\\anaconda3\\lib\\site-packages (from mongogrant>=0.3.1->maggma>=0.57.1->mp-api) (1.1.2)\n",
      "Requirement already satisfied: Jinja2>=2.10.1 in c:\\users\\justi\\anaconda3\\lib\\site-packages (from Flask>=1.0->mongogrant>=0.3.1->maggma>=0.57.1->mp-api) (2.11.3)\n",
      "Requirement already satisfied: itsdangerous>=0.24 in c:\\users\\justi\\anaconda3\\lib\\site-packages (from Flask>=1.0->mongogrant>=0.3.1->maggma>=0.57.1->mp-api) (2.0.1)\n",
      "Requirement already satisfied: Werkzeug>=0.15 in c:\\users\\justi\\anaconda3\\lib\\site-packages (from Flask>=1.0->mongogrant>=0.3.1->maggma>=0.57.1->mp-api) (2.0.2)\n",
      "Requirement already satisfied: colorama in c:\\users\\justi\\anaconda3\\lib\\site-packages (from Click->mongogrant>=0.3.1->maggma>=0.57.1->mp-api) (0.4.4)\n",
      "Requirement already satisfied: MarkupSafe>=0.23 in c:\\users\\justi\\anaconda3\\lib\\site-packages (from Jinja2>=2.10.1->Flask>=1.0->mongogrant>=0.3.1->maggma>=0.57.1->mp-api) (1.1.1)\n",
      "Requirement already satisfied: packaging in c:\\users\\justi\\anaconda3\\lib\\site-packages (from mongomock>=3.10.0->maggma>=0.57.1->mp-api) (21.0)\n",
      "Requirement already satisfied: sentinels in c:\\users\\justi\\anaconda3\\lib\\site-packages (from mongomock>=3.10.0->maggma>=0.57.1->mp-api) (1.0.0)\n",
      "Requirement already satisfied: PyYAML>=3.01 in c:\\users\\justi\\anaconda3\\lib\\site-packages (from pybtex~=0.24->emmet-core>=0.78.0rc3->mp-api) (6.0)\n",
      "Requirement already satisfied: latexcodec>=1.0.4 in c:\\users\\justi\\anaconda3\\lib\\site-packages (from pybtex~=0.24->emmet-core>=0.78.0rc3->mp-api) (2.0.1)\n",
      "Requirement already satisfied: pydantic-core==2.16.3 in c:\\users\\justi\\anaconda3\\lib\\site-packages (from pydantic>=2.0->emmet-core>=0.78.0rc3->mp-api) (2.16.3)\n",
      "Requirement already satisfied: annotated-types>=0.4.0 in c:\\users\\justi\\anaconda3\\lib\\site-packages (from pydantic>=2.0->emmet-core>=0.78.0rc3->mp-api) (0.6.0)\n",
      "Requirement already satisfied: python-dotenv>=0.21.0 in c:\\users\\justi\\anaconda3\\lib\\site-packages (from pydantic-settings>=2.0->emmet-core>=0.78.0rc3->mp-api) (1.0.1)\n",
      "Requirement already satisfied: scipy>=1.5.0 in c:\\users\\justi\\anaconda3\\lib\\site-packages (from pymatgen<2024.2.20,>=2022.3.7->mp-api) (1.12.0)\n",
      "Requirement already satisfied: spglib>=2.0.2 in c:\\users\\justi\\anaconda3\\lib\\site-packages (from pymatgen<2024.2.20,>=2022.3.7->mp-api) (2.3.1)\n",
      "Requirement already satisfied: palettable>=3.1.1 in c:\\users\\justi\\anaconda3\\lib\\site-packages (from pymatgen<2024.2.20,>=2022.3.7->mp-api) (3.3.3)\n",
      "Requirement already satisfied: matplotlib>=1.5 in c:\\users\\justi\\anaconda3\\lib\\site-packages (from pymatgen<2024.2.20,>=2022.3.7->mp-api) (3.4.3)\n",
      "Requirement already satisfied: pandas in c:\\users\\justi\\anaconda3\\lib\\site-packages (from pymatgen<2024.2.20,>=2022.3.7->mp-api) (1.3.4)\n",
      "Requirement already satisfied: uncertainties>=3.1.4 in c:\\users\\justi\\anaconda3\\lib\\site-packages (from pymatgen<2024.2.20,>=2022.3.7->mp-api) (3.1.7)\n",
      "Requirement already satisfied: joblib in c:\\users\\justi\\anaconda3\\lib\\site-packages (from pymatgen<2024.2.20,>=2022.3.7->mp-api) (1.1.0)\n",
      "Requirement already satisfied: plotly>=4.5.0 in c:\\users\\justi\\anaconda3\\lib\\site-packages (from pymatgen<2024.2.20,>=2022.3.7->mp-api) (5.19.0)\n",
      "Requirement already satisfied: tabulate in c:\\users\\justi\\anaconda3\\lib\\site-packages (from pymatgen<2024.2.20,>=2022.3.7->mp-api) (0.9.0)\n",
      "Requirement already satisfied: sympy in c:\\users\\justi\\anaconda3\\lib\\site-packages (from pymatgen<2024.2.20,>=2022.3.7->mp-api) (1.9)\n",
      "Requirement already satisfied: networkx>=2.2 in c:\\users\\justi\\anaconda3\\lib\\site-packages (from pymatgen<2024.2.20,>=2022.3.7->mp-api) (2.6.3)\n",
      "Requirement already satisfied: pyparsing>=2.2.1 in c:\\users\\justi\\anaconda3\\lib\\site-packages (from matplotlib>=1.5->pymatgen<2024.2.20,>=2022.3.7->mp-api) (3.0.4)\n",
      "Requirement already satisfied: cycler>=0.10 in c:\\users\\justi\\anaconda3\\lib\\site-packages (from matplotlib>=1.5->pymatgen<2024.2.20,>=2022.3.7->mp-api) (0.10.0)\n",
      "Requirement already satisfied: kiwisolver>=1.0.1 in c:\\users\\justi\\anaconda3\\lib\\site-packages (from matplotlib>=1.5->pymatgen<2024.2.20,>=2022.3.7->mp-api) (1.3.1)\n",
      "Requirement already satisfied: pillow>=6.2.0 in c:\\users\\justi\\anaconda3\\lib\\site-packages (from matplotlib>=1.5->pymatgen<2024.2.20,>=2022.3.7->mp-api) (8.4.0)\n",
      "Requirement already satisfied: tenacity>=6.2.0 in c:\\users\\justi\\anaconda3\\lib\\site-packages (from plotly>=4.5.0->pymatgen<2024.2.20,>=2022.3.7->mp-api) (8.2.3)\n",
      "Requirement already satisfied: charset-normalizer~=2.0.0 in c:\\users\\justi\\anaconda3\\lib\\site-packages (from requests>=2.23.0->mp-api) (2.0.4)\n",
      "Requirement already satisfied: idna<4,>=2.5 in c:\\users\\justi\\anaconda3\\lib\\site-packages (from requests>=2.23.0->mp-api) (3.2)\n",
      "Requirement already satisfied: certifi>=2017.4.17 in c:\\users\\justi\\anaconda3\\lib\\site-packages (from requests>=2.23.0->mp-api) (2021.10.8)\n",
      "Requirement already satisfied: ruamel.yaml.clib>=0.2.7 in c:\\users\\justi\\anaconda3\\lib\\site-packages (from ruamel.yaml<0.18->maggma>=0.57.1->mp-api) (0.2.8)\n",
      "Requirement already satisfied: paramiko>=2.7.2 in c:\\users\\justi\\anaconda3\\lib\\site-packages (from sshtunnel>=0.1.5->maggma>=0.57.1->mp-api) (2.7.2)\n",
      "Requirement already satisfied: bcrypt>=3.1.3 in c:\\users\\justi\\anaconda3\\lib\\site-packages (from paramiko>=2.7.2->sshtunnel>=0.1.5->maggma>=0.57.1->mp-api) (3.2.0)\n",
      "Requirement already satisfied: cryptography>=2.5 in c:\\users\\justi\\anaconda3\\lib\\site-packages (from paramiko>=2.7.2->sshtunnel>=0.1.5->maggma>=0.57.1->mp-api) (3.4.8)\n",
      "Requirement already satisfied: pynacl>=1.0.1 in c:\\users\\justi\\anaconda3\\lib\\site-packages (from paramiko>=2.7.2->sshtunnel>=0.1.5->maggma>=0.57.1->mp-api) (1.4.0)\n",
      "Requirement already satisfied: cffi>=1.1 in c:\\users\\justi\\anaconda3\\lib\\site-packages (from bcrypt>=3.1.3->paramiko>=2.7.2->sshtunnel>=0.1.5->maggma>=0.57.1->mp-api) (1.14.6)\n",
      "Requirement already satisfied: pycparser in c:\\users\\justi\\anaconda3\\lib\\site-packages (from cffi>=1.1->bcrypt>=3.1.3->paramiko>=2.7.2->sshtunnel>=0.1.5->maggma>=0.57.1->mp-api) (2.20)\n",
      "Requirement already satisfied: anyio<5,>=3.4.0 in c:\\users\\justi\\anaconda3\\lib\\site-packages (from starlette<0.37.0,>=0.36.3->fastapi>=0.42.0->maggma>=0.57.1->mp-api) (4.3.0)\n",
      "Requirement already satisfied: exceptiongroup>=1.0.2 in c:\\users\\justi\\anaconda3\\lib\\site-packages (from anyio<5,>=3.4.0->starlette<0.37.0,>=0.36.3->fastapi>=0.42.0->maggma>=0.57.1->mp-api) (1.2.0)\n",
      "Requirement already satisfied: sniffio>=1.1 in c:\\users\\justi\\anaconda3\\lib\\site-packages (from anyio<5,>=3.4.0->starlette<0.37.0,>=0.36.3->fastapi>=0.42.0->maggma>=0.57.1->mp-api) (1.2.0)\n",
      "Requirement already satisfied: future in c:\\users\\justi\\anaconda3\\lib\\site-packages (from uncertainties>=3.1.4->pymatgen<2024.2.20,>=2022.3.7->mp-api) (0.18.2)\n",
      "Requirement already satisfied: h11>=0.8 in c:\\users\\justi\\anaconda3\\lib\\site-packages (from uvicorn>=0.18.3->maggma>=0.57.1->mp-api) (0.14.0)\n",
      "Requirement already satisfied: pytz>=2017.3 in c:\\users\\justi\\anaconda3\\lib\\site-packages (from pandas->pymatgen<2024.2.20,>=2022.3.7->mp-api) (2021.3)\n",
      "Requirement already satisfied: mpmath>=0.19 in c:\\users\\justi\\anaconda3\\lib\\site-packages (from sympy->pymatgen<2024.2.20,>=2022.3.7->mp-api) (1.2.1)\n"
     ]
    },
    {
     "name": "stdout",
     "output_type": "stream",
     "text": [
      "No module named 'phonopy'\n",
      "No module named 'phonopy'\n"
     ]
    },
    {
     "ename": "ModuleNotFoundError",
     "evalue": "No module named 'jupyter_jsmol'",
     "output_type": "error",
     "traceback": [
      "\u001b[1;31m---------------------------------------------------------------------------\u001b[0m",
      "\u001b[1;31mModuleNotFoundError\u001b[0m                       Traceback (most recent call last)",
      "\u001b[1;32m~\\AppData\\Local\\Temp/ipykernel_5684/3933959124.py\u001b[0m in \u001b[0;36m<module>\u001b[1;34m\u001b[0m\n\u001b[0;32m      7\u001b[0m \u001b[1;32mfrom\u001b[0m \u001b[0mpymatgen\u001b[0m\u001b[1;33m.\u001b[0m\u001b[0melectronic_structure\u001b[0m\u001b[1;33m.\u001b[0m\u001b[0mplotter\u001b[0m \u001b[1;32mimport\u001b[0m \u001b[0mBSPlotter\u001b[0m\u001b[1;33m\u001b[0m\u001b[1;33m\u001b[0m\u001b[0m\n\u001b[0;32m      8\u001b[0m \u001b[1;32mfrom\u001b[0m \u001b[0mpymatgen\u001b[0m\u001b[1;33m.\u001b[0m\u001b[0mphonon\u001b[0m\u001b[1;33m.\u001b[0m\u001b[0mplotter\u001b[0m \u001b[1;32mimport\u001b[0m \u001b[0mPhononBSPlotter\u001b[0m\u001b[1;33m\u001b[0m\u001b[1;33m\u001b[0m\u001b[0m\n\u001b[1;32m----> 9\u001b[1;33m \u001b[1;32mfrom\u001b[0m \u001b[0mjupyter_jsmol\u001b[0m\u001b[1;33m.\u001b[0m\u001b[0mpymatgen\u001b[0m \u001b[1;32mimport\u001b[0m \u001b[0mquick_view\u001b[0m\u001b[1;33m\u001b[0m\u001b[1;33m\u001b[0m\u001b[0m\n\u001b[0m\u001b[0;32m     10\u001b[0m \u001b[1;32mfrom\u001b[0m \u001b[0mlmapr1492\u001b[0m \u001b[1;32mimport\u001b[0m \u001b[0mplot_brillouin_zone\u001b[0m\u001b[1;33m,\u001b[0m \u001b[0mget_plot_bs\u001b[0m\u001b[1;33m,\u001b[0m \u001b[0mget_plot_dos\u001b[0m\u001b[1;33m,\u001b[0m \u001b[0mget_plot_bs_and_dos\u001b[0m\u001b[1;33m,\u001b[0m \u001b[0mget_branch_wavevectors\u001b[0m\u001b[1;33m\u001b[0m\u001b[1;33m\u001b[0m\u001b[0m\n\u001b[0;32m     11\u001b[0m \u001b[1;32mfrom\u001b[0m \u001b[0mplotly\u001b[0m\u001b[1;33m.\u001b[0m\u001b[0msubplots\u001b[0m \u001b[1;32mimport\u001b[0m \u001b[0mmake_subplots\u001b[0m\u001b[1;33m\u001b[0m\u001b[1;33m\u001b[0m\u001b[0m\n",
      "\u001b[1;31mModuleNotFoundError\u001b[0m: No module named 'jupyter_jsmol'"
     ]
    }
   ],
   "source": [
    "!pip install mp-api --upgrade\n",
    "import numpy as np\n",
    "from mp_api.client import MPRester\n",
    "#from pymatgen.ext.matproj import MPRester\n",
    "from pymatgen.core.operations import SymmOp\n",
    "from pymatgen.symmetry.analyzer import SpacegroupAnalyzer\n",
    "from pymatgen.electronic_structure.plotter import BSPlotter\n",
    "from pymatgen.phonon.plotter import PhononBSPlotter\n",
    "from jupyter_jsmol.pymatgen import quick_view\n",
    "from lmapr1492 import plot_brillouin_zone, get_plot_bs, get_plot_dos, get_plot_bs_and_dos, get_branch_wavevectors\n",
    "from plotly.subplots import make_subplots\n",
    "import plotly.graph_objects as go"
   ]
  },
  {
   "cell_type": "code",
   "execution_count": null,
   "id": "68479a66",
   "metadata": {},
   "outputs": [],
   "source": [
    "mp_key = \"XJhzTsEnBSh1B3Uh2ARw9cKQZuE9Q90J\"\n",
    "mp_id = \"mp-569779\""
   ]
  },
  {
   "cell_type": "code",
   "execution_count": null,
   "id": "f312daca",
   "metadata": {},
   "outputs": [],
   "source": [
    "with MPRester(mp_key) as m:\n",
    "    prim_struc = m.get_structure_by_material_id(mp_id)\n",
    "    el_bs = m.get_bandstructure_by_material_id(mp_id)\n",
    "    el_dos = m.get_dos_by_material_id(mp_id)\n",
    "    ph_bs = m.get_phonon_bandstructure_by_material_id(mp_id)\n",
    "    ph_dos = m.get_phonon_dos_by_material_id(mp_id)\n",
    "conv_struc = SpacegroupAnalyzer(prim_struc).get_conventional_standard_structure()\n",
    "symmops = SpacegroupAnalyzer(conv_struc).get_space_group_operations()"
   ]
  },
  {
   "cell_type": "markdown",
   "id": "8f2169bb",
   "metadata": {},
   "source": [
    "# Structure symmetry"
   ]
  },
  {
   "cell_type": "code",
   "execution_count": null,
   "id": "0067bf00",
   "metadata": {},
   "outputs": [],
   "source": [
    "i_atom = 7\n",
    "i_symmop = 2\n",
    "\n",
    "view = quick_view(prim_struc, \"packed\", conventional = True)\n",
    "display(view)\n",
    "view.script('select antimony; color lightsalmon')\n",
    "view.script('select sodium; color gold')\n",
    "view.script('select lithium; color palegreen')\n",
    "view.script('draw SYMOP ' + str(i_symmop) + ' {atomno = ' + str(i_atom) + '}')"
   ]
  },
  {
   "cell_type": "code",
   "execution_count": null,
   "id": "3bb4c1a7",
   "metadata": {},
   "outputs": [],
   "source": [
    "symmop = symmops[i_symmop - 1]\n",
    "print(symmop)"
   ]
  },
  {
   "cell_type": "code",
   "execution_count": null,
   "id": "86b95c2a",
   "metadata": {},
   "outputs": [],
   "source": [
    "pos_init = conv_struc.sites[i_atom -1].frac_coords\n",
    "print(pos_init)"
   ]
  },
  {
   "cell_type": "code",
   "execution_count": null,
   "id": "de99dd5b",
   "metadata": {},
   "outputs": [],
   "source": [
    "pos_final = symmop.operate(pos_init)\n",
    "print(pos_final)"
   ]
  },
  {
   "cell_type": "code",
   "execution_count": null,
   "id": "3e0e96e2",
   "metadata": {},
   "outputs": [],
   "source": [
    "for k_atom, site in enumerate(conv_struc.sites):\n",
    "    if np.linalg.norm((site.frac_coords - pos_final)%1) < 1e-6:\n",
    "        j_atom = k_atom + 1\n",
    "print(j_atom, conv_struc.sites[j_atom -1].frac_coords)"
   ]
  },
  {
   "cell_type": "markdown",
   "id": "bcba4360",
   "metadata": {},
   "source": [
    "# Brillouin zone"
   ]
  },
  {
   "cell_type": "code",
   "execution_count": null,
   "id": "78549b9a",
   "metadata": {},
   "outputs": [],
   "source": [
    "plot_brillouin_zone(el_bs.structure)"
   ]
  },
  {
   "cell_type": "markdown",
   "id": "bf478647",
   "metadata": {},
   "source": [
    "# Electronic bandstructure"
   ]
  },
  {
   "cell_type": "code",
   "execution_count": null,
   "id": "3a36c405",
   "metadata": {
    "scrolled": false
   },
   "outputs": [],
   "source": [
    "fig_el_bs = get_plot_bs(el_bs, plot_range=[-4,7])\n",
    "fig_el_bs.show()"
   ]
  },
  {
   "cell_type": "code",
   "execution_count": null,
   "id": "39d211b8",
   "metadata": {},
   "outputs": [],
   "source": [
    "fig_el_dos = get_plot_dos(el_dos, plot_range=[-4,7])\n",
    "fig_el_dos.show()"
   ]
  },
  {
   "cell_type": "code",
   "execution_count": null,
   "id": "21d878b7",
   "metadata": {},
   "outputs": [],
   "source": [
    "fig_el_bs_and_dos = get_plot_bs_and_dos(el_bs, el_dos, plot_range=[-4,7])\n",
    "fig_el_bs_and_dos.show()"
   ]
  },
  {
   "cell_type": "code",
   "execution_count": null,
   "id": "0a0b149a",
   "metadata": {},
   "outputs": [],
   "source": [
    "xvals = fig_el_bs.to_dict()[\"data\"][0][\"x\"]\n",
    "yvals_vbm = fig_el_bs.to_dict()[\"data\"][2][\"y\"]\n",
    "yvals_cbm = fig_el_bs.to_dict()[\"data\"][3][\"y\"]"
   ]
  },
  {
   "cell_type": "code",
   "execution_count": null,
   "id": "6c4c6522",
   "metadata": {},
   "outputs": [],
   "source": [
    "xvals_band_edges = []\n",
    "yvals_band_edges = []\n",
    "for i in el_bs.get_vbm()[\"kpoint_index\"]:\n",
    "    xvals_band_edges.append(xvals[i])\n",
    "    yvals_band_edges.append(yvals_vbm[i])\n",
    "for i in el_bs.get_cbm()[\"kpoint_index\"]:\n",
    "    xvals_band_edges.append(xvals[i])\n",
    "    yvals_band_edges.append(yvals_cbm[i])"
   ]
  },
  {
   "cell_type": "code",
   "execution_count": null,
   "id": "6369c700",
   "metadata": {},
   "outputs": [],
   "source": [
    "for i in el_bs.get_vbm()[\"kpoint_index\"]:\n",
    "    scatter = go.Scatter(\n",
    "        x = xvals_band_edges, y = yvals_band_edges,\n",
    "        mode = \"markers\", marker = dict(color=\"black\"),\n",
    "        showlegend=False)\n",
    "    fig_el_bs.add_trace(scatter)\n",
    "fig_el_bs.update_layout(xaxis_range = [xvals[0], xvals[-1]])\n",
    "fig_el_bs.show()"
   ]
  },
  {
   "cell_type": "code",
   "execution_count": null,
   "id": "e3b79d35",
   "metadata": {},
   "outputs": [],
   "source": [
    "el_bs.get_vbm()"
   ]
  },
  {
   "cell_type": "code",
   "execution_count": null,
   "id": "59ef7f55",
   "metadata": {},
   "outputs": [],
   "source": [
    "el_bs.get_cbm()"
   ]
  },
  {
   "cell_type": "code",
   "execution_count": null,
   "id": "74af579b",
   "metadata": {},
   "outputs": [],
   "source": [
    "i_vbm = list(el_bs.get_vbm()['band_index'].values())[-1][-1]\n",
    "i_cbm = list(el_bs.get_cbm()['band_index'].values())[-1][0]\n",
    "print(\"VBM:\", i_vbm, \"CBM:\", i_cbm)"
   ]
  },
  {
   "cell_type": "markdown",
   "id": "38251e04",
   "metadata": {},
   "source": [
    "# Phonon bandstructure"
   ]
  },
  {
   "cell_type": "code",
   "execution_count": null,
   "id": "b188c1d9",
   "metadata": {},
   "outputs": [],
   "source": [
    "fig_ph_bs = get_plot_bs(ph_bs)\n",
    "fig_ph_bs.update_yaxes(rangemode=\"tozero\")\n",
    "fig_ph_bs.show()"
   ]
  },
  {
   "cell_type": "code",
   "execution_count": null,
   "id": "868503cc",
   "metadata": {},
   "outputs": [],
   "source": [
    "fig_ph_dos = get_plot_dos(ph_dos)\n",
    "fig_ph_dos.show()"
   ]
  },
  {
   "cell_type": "code",
   "execution_count": null,
   "id": "8e2103b6",
   "metadata": {},
   "outputs": [],
   "source": [
    "fig_ph_bs_and_dos = get_plot_bs_and_dos(ph_bs, ph_dos)\n",
    "fig_ph_bs_and_dos.update_yaxes(rangemode=\"tozero\")\n",
    "fig_ph_bs_and_dos.show()"
   ]
  },
  {
   "cell_type": "markdown",
   "id": "aac8fd65",
   "metadata": {},
   "source": [
    "# Distances in the Brillouin zone"
   ]
  },
  {
   "cell_type": "code",
   "execution_count": null,
   "id": "0ffa6539",
   "metadata": {},
   "outputs": [],
   "source": [
    "xvals = fig_el_bs.to_dict()[\"data\"][0][\"x\"]\n",
    "for i_branch, branch in enumerate(el_bs.branches):\n",
    "    wavevectors = get_branch_wavevectors(el_bs, i_branch)\n",
    "    v0 = np.dot(np.transpose(el_bs.structure.lattice.reciprocal_lattice.matrix), wavevectors[0])\n",
    "    v1 = np.dot(np.transpose(el_bs.structure.lattice.reciprocal_lattice.matrix), wavevectors[1])\n",
    "    print(\"{0:3d} {1:9.6f} {2:9.6f}\".format(i_branch, np.linalg.norm(v1-v0), xvals[branch[\"end_index\"]]-xvals[branch[\"start_index\"]]))"
   ]
  },
  {
   "cell_type": "code",
   "execution_count": null,
   "id": "8431d93b",
   "metadata": {},
   "outputs": [],
   "source": [
    "xvals = fig_ph_bs.to_dict()[\"data\"][0][\"x\"]\n",
    "for i_branch, branch in enumerate(ph_bs.branches):\n",
    "    wavevectors = get_branch_wavevectors(ph_bs, i_branch)\n",
    "    v0 = np.dot(np.transpose(ph_bs.structure.lattice.reciprocal_lattice.matrix), wavevectors[0])\n",
    "    v1 = np.dot(np.transpose(ph_bs.structure.lattice.reciprocal_lattice.matrix), wavevectors[1])\n",
    "    print(\"{0:3d} {1:9.6f} {2:9.6f}\".format(i_branch, np.linalg.norm(v1-v0), xvals[branch[\"end_index\"]]-xvals[branch[\"start_index\"]]))"
   ]
  },
  {
   "cell_type": "code",
   "execution_count": null,
   "id": "6abbe524",
   "metadata": {},
   "outputs": [],
   "source": [
    "el_bs.structure"
   ]
  },
  {
   "cell_type": "code",
   "execution_count": null,
   "id": "58bfe774",
   "metadata": {},
   "outputs": [],
   "source": [
    "ph_bs.structure"
   ]
  },
  {
   "cell_type": "code",
   "execution_count": null,
   "id": "494447a3",
   "metadata": {},
   "outputs": [],
   "source": [
    "prim_struc"
   ]
  },
  {
   "cell_type": "markdown",
   "id": "f9846dd1",
   "metadata": {},
   "source": [
    "# Specific heat"
   ]
  },
  {
   "cell_type": "code",
   "execution_count": null,
   "id": "4f1267a2",
   "metadata": {},
   "outputs": [],
   "source": [
    "temperatures = np.arange(0,1000,5)\n",
    "R = 8.314\n",
    "nat = len(prim_struc)\n",
    "ph_cv = np.array([ph_dos.cv(temperatures[i]) for i in range(len(temperatures))])/(3*nat*R)"
   ]
  },
  {
   "cell_type": "code",
   "execution_count": null,
   "id": "023dcb41",
   "metadata": {},
   "outputs": [],
   "source": [
    "fig = go.Figure()\n",
    "scatter = go.Scatter(x=temperatures, y=ph_cv)\n",
    "fig.add_trace(scatter)\n",
    "fig.add_hline(y=1, line_width=2, line_color=\"red\")\n",
    "fig.update_layout(\n",
    "    xaxis =  {'mirror': True, 'showgrid': False, 'ticks': 'inside', 'ticklen':10},\n",
    "    yaxis =  {'mirror': True, 'showgrid': False, 'ticks': 'inside', 'ticklen':10},\n",
    "    xaxis_title = \"Temperature\",\n",
    "    yaxis_title = \"$C_v\\,/\\,3N_{\\!at}R$\",        \n",
    ")\n",
    "fig.show()"
   ]
  },
  {
   "cell_type": "code",
   "execution_count": null,
   "id": "20e034ec",
   "metadata": {},
   "outputs": [],
   "source": []
  },
  {
   "cell_type": "code",
   "execution_count": null,
   "id": "a1a29122",
   "metadata": {
    "scrolled": false
   },
   "outputs": [],
   "source": []
  },
  {
   "cell_type": "code",
   "execution_count": null,
   "id": "fe01bc60",
   "metadata": {},
   "outputs": [],
   "source": []
  },
  {
   "cell_type": "code",
   "execution_count": null,
   "id": "8d0e88b8",
   "metadata": {},
   "outputs": [],
   "source": []
  },
  {
   "cell_type": "code",
   "execution_count": null,
   "id": "54cc6c71",
   "metadata": {},
   "outputs": [],
   "source": []
  },
  {
   "cell_type": "code",
   "execution_count": null,
   "id": "b847dfdd",
   "metadata": {},
   "outputs": [],
   "source": []
  },
  {
   "cell_type": "code",
   "execution_count": null,
   "id": "e706f636",
   "metadata": {},
   "outputs": [],
   "source": []
  },
  {
   "cell_type": "code",
   "execution_count": null,
   "id": "157b5471",
   "metadata": {},
   "outputs": [],
   "source": []
  }
 ],
 "metadata": {
  "kernelspec": {
   "display_name": "Python 3 (ipykernel)",
   "language": "python",
   "name": "python3"
  },
  "language_info": {
   "codemirror_mode": {
    "name": "ipython",
    "version": 3
   },
   "file_extension": ".py",
   "mimetype": "text/x-python",
   "name": "python",
   "nbconvert_exporter": "python",
   "pygments_lexer": "ipython3",
   "version": "3.9.7"
  }
 },
 "nbformat": 4,
 "nbformat_minor": 5
}
