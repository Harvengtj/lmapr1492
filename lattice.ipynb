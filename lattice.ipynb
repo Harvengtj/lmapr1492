{
 "cells": [
  {
   "cell_type": "markdown",
   "id": "bec4e0b5",
   "metadata": {},
   "source": [
    "# Maille (Justin Harvengt : ScSbPd)"
   ]
  },
  {
   "cell_type": "code",
   "execution_count": 1,
   "id": "151d6267",
   "metadata": {},
   "outputs": [
    {
     "name": "stdout",
     "output_type": "stream",
     "text": [
      "Defaulting to user installation because normal site-packages is not writeable\n",
      "Requirement already satisfied: mp-api in /home/users/j/h/jharveng/.local/lib/python3.9/site-packages (0.41.2)\n",
      "Requirement already satisfied: setuptools in /usr/lib/python3.9/site-packages (from mp-api) (50.3.2)\n",
      "Requirement already satisfied: msgpack in /usr/local/lib64/python3.9/site-packages (from mp-api) (1.0.5)\n",
      "Requirement already satisfied: maggma>=0.57.1 in /home/users/j/h/jharveng/.local/lib/python3.9/site-packages (from mp-api) (0.63.3)\n",
      "Requirement already satisfied: pymatgen!=2024.2.20,>=2022.3.7 in /home/users/j/h/jharveng/.local/lib/python3.9/site-packages (from mp-api) (2024.2.8)\n",
      "Requirement already satisfied: typing-extensions>=3.7.4.1 in /usr/local/lib/python3.9/site-packages (from mp-api) (4.6.3)\n",
      "Requirement already satisfied: requests>=2.23.0 in /usr/local/lib/python3.9/site-packages (from mp-api) (2.31.0)\n",
      "Requirement already satisfied: monty>=2023.9.25 in /home/users/j/h/jharveng/.local/lib/python3.9/site-packages (from mp-api) (2024.2.2)\n",
      "Requirement already satisfied: emmet-core>=0.78.0rc3 in /home/users/j/h/jharveng/.local/lib/python3.9/site-packages (from mp-api) (0.78.0rc4)\n",
      "Requirement already satisfied: smart-open in /home/users/j/h/jharveng/.local/lib/python3.9/site-packages (from mp-api) (7.0.4)\n",
      "Requirement already satisfied: pydantic>=2.0 in /usr/local/lib/python3.9/site-packages (from emmet-core>=0.78.0rc3->mp-api) (2.4.2)\n",
      "Requirement already satisfied: pydantic-settings>=2.0 in /usr/local/lib/python3.9/site-packages (from emmet-core>=0.78.0rc3->mp-api) (2.0.3)\n",
      "Requirement already satisfied: pybtex~=0.24 in /usr/local/lib/python3.9/site-packages (from emmet-core>=0.78.0rc3->mp-api) (0.24.0)\n",
      "Requirement already satisfied: ruamel.yaml<0.18 in /usr/local/lib/python3.9/site-packages (from maggma>=0.57.1->mp-api) (0.17.32)\n",
      "Requirement already satisfied: pymongo>=4.2.0 in /usr/local/lib64/python3.9/site-packages (from maggma>=0.57.1->mp-api) (4.5.0)\n",
      "Requirement already satisfied: mongomock>=3.10.0 in /usr/local/lib/python3.9/site-packages (from maggma>=0.57.1->mp-api) (4.1.2)\n",
      "Requirement already satisfied: pydash>=4.1.0 in /usr/local/lib/python3.9/site-packages (from maggma>=0.57.1->mp-api) (7.0.6)\n",
      "Requirement already satisfied: jsonschema>=3.1.1 in /usr/local/lib/python3.9/site-packages (from maggma>=0.57.1->mp-api) (4.17.3)\n",
      "Requirement already satisfied: tqdm>=4.19.6 in /usr/local/lib/python3.9/site-packages (from maggma>=0.57.1->mp-api) (4.65.0)\n",
      "Requirement already satisfied: mongogrant>=0.3.1 in /usr/local/lib/python3.9/site-packages (from maggma>=0.57.1->mp-api) (0.3.3)\n",
      "Requirement already satisfied: aioitertools>=0.5.1 in /usr/local/lib/python3.9/site-packages (from maggma>=0.57.1->mp-api) (0.11.0)\n",
      "Requirement already satisfied: numpy>=1.17.3 in /usr/local/lib64/python3.9/site-packages (from maggma>=0.57.1->mp-api) (1.25.0)\n",
      "Requirement already satisfied: fastapi>=0.42.0 in /usr/local/lib/python3.9/site-packages (from maggma>=0.57.1->mp-api) (0.103.2)\n",
      "Requirement already satisfied: pyzmq>=24.0.1 in /usr/local/lib64/python3.9/site-packages (from maggma>=0.57.1->mp-api) (24.0.1)\n",
      "Requirement already satisfied: dnspython>=1.16.0 in /usr/local/lib/python3.9/site-packages (from maggma>=0.57.1->mp-api) (2.4.2)\n",
      "Requirement already satisfied: sshtunnel>=0.1.5 in /usr/local/lib/python3.9/site-packages (from maggma>=0.57.1->mp-api) (0.4.0)\n",
      "Requirement already satisfied: orjson>=3.9.0 in /usr/local/lib64/python3.9/site-packages (from maggma>=0.57.1->mp-api) (3.9.7)\n",
      "Requirement already satisfied: boto3>=1.20.41 in /usr/local/lib/python3.9/site-packages (from maggma>=0.57.1->mp-api) (1.28.59)\n",
      "Requirement already satisfied: python-dateutil>=2.8.2 in /usr/local/lib/python3.9/site-packages (from maggma>=0.57.1->mp-api) (2.8.2)\n",
      "Requirement already satisfied: uvicorn>=0.18.3 in /usr/local/lib/python3.9/site-packages (from maggma>=0.57.1->mp-api) (0.23.2)\n",
      "Requirement already satisfied: matplotlib>=1.5 in /usr/local/lib64/python3.9/site-packages (from pymatgen!=2024.2.20,>=2022.3.7->mp-api) (3.7.1)\n",
      "Requirement already satisfied: networkx>=2.2 in /usr/local/lib/python3.9/site-packages (from pymatgen!=2024.2.20,>=2022.3.7->mp-api) (3.1)\n",
      "Requirement already satisfied: palettable>=3.1.1 in /usr/local/lib/python3.9/site-packages (from pymatgen!=2024.2.20,>=2022.3.7->mp-api) (3.3.3)\n",
      "Requirement already satisfied: pandas in /usr/local/lib64/python3.9/site-packages (from pymatgen!=2024.2.20,>=2022.3.7->mp-api) (2.0.2)\n",
      "Requirement already satisfied: plotly>=4.5.0 in /usr/local/lib/python3.9/site-packages (from pymatgen!=2024.2.20,>=2022.3.7->mp-api) (5.15.0)\n",
      "Requirement already satisfied: scipy>=1.5.0 in /usr/local/lib64/python3.9/site-packages (from pymatgen!=2024.2.20,>=2022.3.7->mp-api) (1.11.0)\n",
      "Requirement already satisfied: spglib>=2.0.2 in /usr/local/lib64/python3.9/site-packages (from pymatgen!=2024.2.20,>=2022.3.7->mp-api) (2.0.2)\n",
      "Requirement already satisfied: sympy in /usr/local/lib/python3.9/site-packages (from pymatgen!=2024.2.20,>=2022.3.7->mp-api) (1.12)\n",
      "Requirement already satisfied: tabulate in /usr/local/lib/python3.9/site-packages (from pymatgen!=2024.2.20,>=2022.3.7->mp-api) (0.9.0)\n",
      "Requirement already satisfied: uncertainties>=3.1.4 in /usr/local/lib/python3.9/site-packages (from pymatgen!=2024.2.20,>=2022.3.7->mp-api) (3.1.7)\n",
      "Requirement already satisfied: joblib in /usr/local/lib/python3.9/site-packages (from pymatgen!=2024.2.20,>=2022.3.7->mp-api) (1.3.2)\n",
      "Requirement already satisfied: charset-normalizer<4,>=2 in /usr/local/lib64/python3.9/site-packages (from requests>=2.23.0->mp-api) (3.1.0)\n",
      "Requirement already satisfied: idna<4,>=2.5 in /usr/local/lib/python3.9/site-packages (from requests>=2.23.0->mp-api) (3.4)\n",
      "Requirement already satisfied: urllib3<3,>=1.21.1 in /usr/local/lib/python3.9/site-packages (from requests>=2.23.0->mp-api) (1.26.17)\n",
      "Requirement already satisfied: certifi>=2017.4.17 in /usr/local/lib/python3.9/site-packages (from requests>=2.23.0->mp-api) (2023.5.7)\n",
      "Requirement already satisfied: wrapt in /home/users/j/h/jharveng/.local/lib/python3.9/site-packages (from smart-open->mp-api) (1.16.0)\n",
      "Requirement already satisfied: botocore<1.32.0,>=1.31.59 in /usr/local/lib/python3.9/site-packages (from boto3>=1.20.41->maggma>=0.57.1->mp-api) (1.31.59)\n",
      "Requirement already satisfied: jmespath<2.0.0,>=0.7.1 in /usr/local/lib/python3.9/site-packages (from boto3>=1.20.41->maggma>=0.57.1->mp-api) (1.0.1)\n",
      "Requirement already satisfied: s3transfer<0.8.0,>=0.7.0 in /usr/local/lib/python3.9/site-packages (from boto3>=1.20.41->maggma>=0.57.1->mp-api) (0.7.0)\n",
      "Requirement already satisfied: anyio<4.0.0,>=3.7.1 in /usr/local/lib/python3.9/site-packages (from fastapi>=0.42.0->maggma>=0.57.1->mp-api) (3.7.1)\n",
      "Requirement already satisfied: starlette<0.28.0,>=0.27.0 in /usr/local/lib/python3.9/site-packages (from fastapi>=0.42.0->maggma>=0.57.1->mp-api) (0.27.0)\n",
      "Requirement already satisfied: attrs>=17.4.0 in /usr/local/lib/python3.9/site-packages (from jsonschema>=3.1.1->maggma>=0.57.1->mp-api) (23.1.0)\n",
      "Requirement already satisfied: pyrsistent!=0.17.0,!=0.17.1,!=0.17.2,>=0.14.0 in /usr/local/lib/python3.9/site-packages (from jsonschema>=3.1.1->maggma>=0.57.1->mp-api) (0.19.3)\n",
      "Requirement already satisfied: contourpy>=1.0.1 in /usr/local/lib64/python3.9/site-packages (from matplotlib>=1.5->pymatgen!=2024.2.20,>=2022.3.7->mp-api) (1.1.0)\n",
      "Requirement already satisfied: cycler>=0.10 in /usr/local/lib/python3.9/site-packages (from matplotlib>=1.5->pymatgen!=2024.2.20,>=2022.3.7->mp-api) (0.11.0)\n",
      "Requirement already satisfied: fonttools>=4.22.0 in /usr/local/lib64/python3.9/site-packages (from matplotlib>=1.5->pymatgen!=2024.2.20,>=2022.3.7->mp-api) (4.40.0)\n",
      "Requirement already satisfied: kiwisolver>=1.0.1 in /usr/local/lib64/python3.9/site-packages (from matplotlib>=1.5->pymatgen!=2024.2.20,>=2022.3.7->mp-api) (1.4.4)\n",
      "Requirement already satisfied: packaging>=20.0 in /usr/local/lib/python3.9/site-packages (from matplotlib>=1.5->pymatgen!=2024.2.20,>=2022.3.7->mp-api) (23.1)\n",
      "Requirement already satisfied: pillow>=6.2.0 in /usr/local/lib64/python3.9/site-packages (from matplotlib>=1.5->pymatgen!=2024.2.20,>=2022.3.7->mp-api) (9.5.0)\n",
      "Requirement already satisfied: pyparsing>=2.3.1 in /usr/local/lib/python3.9/site-packages (from matplotlib>=1.5->pymatgen!=2024.2.20,>=2022.3.7->mp-api) (3.1.0)\n",
      "Requirement already satisfied: importlib-resources>=3.2.0 in /usr/local/lib/python3.9/site-packages (from matplotlib>=1.5->pymatgen!=2024.2.20,>=2022.3.7->mp-api) (5.12.0)\n",
      "Requirement already satisfied: Click in /usr/local/lib/python3.9/site-packages (from mongogrant>=0.3.1->maggma>=0.57.1->mp-api) (8.1.7)\n",
      "Requirement already satisfied: Flask>=1.0 in /usr/local/lib/python3.9/site-packages (from mongogrant>=0.3.1->maggma>=0.57.1->mp-api) (3.0.0)\n",
      "Requirement already satisfied: sentinels in /usr/local/lib/python3.9/site-packages (from mongomock>=3.10.0->maggma>=0.57.1->mp-api) (1.0.0)\n",
      "Requirement already satisfied: tenacity>=6.2.0 in /usr/local/lib/python3.9/site-packages (from plotly>=4.5.0->pymatgen!=2024.2.20,>=2022.3.7->mp-api) (8.2.2)\n",
      "Requirement already satisfied: PyYAML>=3.01 in /usr/local/lib64/python3.9/site-packages (from pybtex~=0.24->emmet-core>=0.78.0rc3->mp-api) (6.0)\n",
      "Requirement already satisfied: latexcodec>=1.0.4 in /usr/local/lib/python3.9/site-packages (from pybtex~=0.24->emmet-core>=0.78.0rc3->mp-api) (2.0.1)\n",
      "Requirement already satisfied: six in /usr/local/lib/python3.9/site-packages (from pybtex~=0.24->emmet-core>=0.78.0rc3->mp-api) (1.16.0)\n",
      "Requirement already satisfied: annotated-types>=0.4.0 in /usr/local/lib/python3.9/site-packages (from pydantic>=2.0->emmet-core>=0.78.0rc3->mp-api) (0.5.0)\n",
      "Requirement already satisfied: pydantic-core==2.10.1 in /usr/local/lib64/python3.9/site-packages (from pydantic>=2.0->emmet-core>=0.78.0rc3->mp-api) (2.10.1)\n",
      "Requirement already satisfied: python-dotenv>=0.21.0 in /usr/local/lib/python3.9/site-packages (from pydantic-settings>=2.0->emmet-core>=0.78.0rc3->mp-api) (1.0.0)\n",
      "Requirement already satisfied: ruamel.yaml.clib>=0.2.7 in /usr/local/lib64/python3.9/site-packages (from ruamel.yaml<0.18->maggma>=0.57.1->mp-api) (0.2.7)\n",
      "Requirement already satisfied: paramiko>=2.7.2 in /usr/local/lib/python3.9/site-packages (from sshtunnel>=0.1.5->maggma>=0.57.1->mp-api) (3.3.1)\n",
      "Requirement already satisfied: future in /usr/local/lib/python3.9/site-packages (from uncertainties>=3.1.4->pymatgen!=2024.2.20,>=2022.3.7->mp-api) (0.18.3)\n",
      "Requirement already satisfied: h11>=0.8 in /usr/local/lib/python3.9/site-packages (from uvicorn>=0.18.3->maggma>=0.57.1->mp-api) (0.14.0)\n",
      "Requirement already satisfied: pytz>=2020.1 in /usr/local/lib/python3.9/site-packages (from pandas->pymatgen!=2024.2.20,>=2022.3.7->mp-api) (2023.3)\n",
      "Requirement already satisfied: tzdata>=2022.1 in /usr/local/lib/python3.9/site-packages (from pandas->pymatgen!=2024.2.20,>=2022.3.7->mp-api) (2023.3)\n",
      "Requirement already satisfied: mpmath>=0.19 in /usr/local/lib/python3.9/site-packages (from sympy->pymatgen!=2024.2.20,>=2022.3.7->mp-api) (1.3.0)\n",
      "Requirement already satisfied: sniffio>=1.1 in /usr/local/lib/python3.9/site-packages (from anyio<4.0.0,>=3.7.1->fastapi>=0.42.0->maggma>=0.57.1->mp-api) (1.3.0)\n",
      "Requirement already satisfied: exceptiongroup in /usr/local/lib/python3.9/site-packages (from anyio<4.0.0,>=3.7.1->fastapi>=0.42.0->maggma>=0.57.1->mp-api) (1.1.1)\n",
      "Requirement already satisfied: Werkzeug>=3.0.0 in /usr/local/lib/python3.9/site-packages (from Flask>=1.0->mongogrant>=0.3.1->maggma>=0.57.1->mp-api) (3.0.0)\n",
      "Requirement already satisfied: Jinja2>=3.1.2 in /usr/local/lib/python3.9/site-packages (from Flask>=1.0->mongogrant>=0.3.1->maggma>=0.57.1->mp-api) (3.1.2)\n",
      "Requirement already satisfied: itsdangerous>=2.1.2 in /usr/local/lib/python3.9/site-packages (from Flask>=1.0->mongogrant>=0.3.1->maggma>=0.57.1->mp-api) (2.1.2)\n",
      "Requirement already satisfied: blinker>=1.6.2 in /usr/local/lib/python3.9/site-packages (from Flask>=1.0->mongogrant>=0.3.1->maggma>=0.57.1->mp-api) (1.6.2)\n",
      "Requirement already satisfied: importlib-metadata>=3.6.0 in /usr/local/lib/python3.9/site-packages (from Flask>=1.0->mongogrant>=0.3.1->maggma>=0.57.1->mp-api) (6.7.0)\n",
      "Requirement already satisfied: zipp>=3.1.0 in /usr/local/lib/python3.9/site-packages (from importlib-resources>=3.2.0->matplotlib>=1.5->pymatgen!=2024.2.20,>=2022.3.7->mp-api) (3.15.0)\n",
      "Requirement already satisfied: bcrypt>=3.2 in /usr/local/lib64/python3.9/site-packages (from paramiko>=2.7.2->sshtunnel>=0.1.5->maggma>=0.57.1->mp-api) (4.0.1)\n",
      "Requirement already satisfied: cryptography>=3.3 in /usr/local/lib64/python3.9/site-packages (from paramiko>=2.7.2->sshtunnel>=0.1.5->maggma>=0.57.1->mp-api) (41.0.1)\n",
      "Requirement already satisfied: pynacl>=1.5 in /usr/local/lib64/python3.9/site-packages (from paramiko>=2.7.2->sshtunnel>=0.1.5->maggma>=0.57.1->mp-api) (1.5.0)\n",
      "Requirement already satisfied: cffi>=1.12 in /usr/local/lib64/python3.9/site-packages (from cryptography>=3.3->paramiko>=2.7.2->sshtunnel>=0.1.5->maggma>=0.57.1->mp-api) (1.15.1)\n",
      "Requirement already satisfied: MarkupSafe>=2.0 in /usr/local/lib64/python3.9/site-packages (from Jinja2>=3.1.2->Flask>=1.0->mongogrant>=0.3.1->maggma>=0.57.1->mp-api) (2.1.3)\n",
      "Requirement already satisfied: pycparser in /usr/local/lib/python3.9/site-packages (from cffi>=1.12->cryptography>=3.3->paramiko>=2.7.2->sshtunnel>=0.1.5->maggma>=0.57.1->mp-api) (2.21)\n",
      "\n",
      "\u001b[1m[\u001b[0m\u001b[34;49mnotice\u001b[0m\u001b[1;39;49m]\u001b[0m\u001b[39;49m A new release of pip is available: \u001b[0m\u001b[31;49m23.2.1\u001b[0m\u001b[39;49m -> \u001b[0m\u001b[32;49m24.0\u001b[0m\n",
      "\u001b[1m[\u001b[0m\u001b[34;49mnotice\u001b[0m\u001b[1;39;49m]\u001b[0m\u001b[39;49m To update, run: \u001b[0m\u001b[32;49mpython3.9 -m pip install --upgrade pip\u001b[0m\n"
     ]
    }
   ],
   "source": [
    "!pip install mp-api --upgrade\n",
    "import numpy as np\n",
    "from mp_api.client import MPRester\n",
    "#from pymatgen.ext.matproj import MPRester\n",
    "from pymatgen.core.operations import SymmOp\n",
    "from pymatgen.symmetry.analyzer import SpacegroupAnalyzer"
   ]
  },
  {
   "cell_type": "markdown",
   "id": "16305bac",
   "metadata": {},
   "source": [
    "## Données"
   ]
  },
  {
   "cell_type": "code",
   "execution_count": 2,
   "id": "1f3d3cdf",
   "metadata": {},
   "outputs": [],
   "source": [
    "mp_key = \"XJhzTsEnBSh1B3Uh2ARw9cKQZuE9Q90J\"\n",
    "mp_id = \"mp-569779\""
   ]
  },
  {
   "cell_type": "code",
   "execution_count": 3,
   "id": "1adf7306",
   "metadata": {},
   "outputs": [
    {
     "data": {
      "application/vnd.jupyter.widget-view+json": {
       "model_id": "92b31fac44714db4bdc609977db4fef2",
       "version_major": 2,
       "version_minor": 0
      },
      "text/plain": [
       "Retrieving MaterialsDoc documents:   0%|          | 0/1 [00:00<?, ?it/s]"
      ]
     },
     "metadata": {},
     "output_type": "display_data"
    }
   ],
   "source": [
    "with MPRester(mp_key) as m:\n",
    "    prim_struc = m.get_structure_by_material_id(mp_id)\n",
    "conv_struc = SpacegroupAnalyzer(prim_struc).get_conventional_standard_structure()\n",
    "symmops = SpacegroupAnalyzer(conv_struc).get_space_group_operations()"
   ]
  },
  {
   "cell_type": "markdown",
   "id": "f5920a25",
   "metadata": {},
   "source": [
    "# Vecteurs de base"
   ]
  },
  {
   "cell_type": "markdown",
   "id": "107f9852",
   "metadata": {},
   "source": [
    "## Réseau direct"
   ]
  },
  {
   "cell_type": "code",
   "execution_count": 8,
   "id": "62978e92",
   "metadata": {
    "scrolled": true
   },
   "outputs": [
    {
     "name": "stdout",
     "output_type": "stream",
     "text": [
      "Vue d'ensemble des caractéristiques géométriques :\n",
      "\n",
      "Full Formula (Sc1 Sb1 Pd1)\n",
      "Reduced Formula: ScSbPd\n",
      "abc   :   4.490139   4.490139   4.490139\n",
      "angles:  60.000000  60.000000  60.000000\n",
      "pbc   :       True       True       True\n",
      "Sites (3)\n",
      "  #  SP       a     b     c\n",
      "---  ----  ----  ----  ----\n",
      "  0  Sc    0.5   0.5   0.5\n",
      "  1  Sb    0     0     0\n",
      "  2  Pd    0.25  0.25  0.25\n",
      "\n",
      "\n"
     ]
    }
   ],
   "source": [
    "# Réseau direct\n",
    "réseau_direct = prim_struc.lattice\n",
    "\n",
    "print(\"Vue d'ensemble des caractéristiques géométriques :\\n\")\n",
    "sga = SpacegroupAnalyzer(prim_struc,0.1)\n",
    "data = sga.get_primitive_standard_structure()\n",
    "print(data)\n",
    "print(\"\\n\")"
   ]
  },
  {
   "cell_type": "code",
   "execution_count": 9,
   "id": "eb1da6fa",
   "metadata": {},
   "outputs": [
    {
     "name": "stdout",
     "output_type": "stream",
     "text": [
      "Vecteurs de base du réseau direct :\n",
      "[[3.88857456 0.         2.24506957]\n",
      " [1.29619152 3.66618325 2.24506957]\n",
      " [0.         0.         4.49013913]]\n",
      "\n",
      "\n",
      "Normes des vecteurs :\n",
      " (4.490139293110916, 4.490138800654892, 4.49013962)\n",
      "\n",
      "\n",
      "Angles : \n",
      " (59.99999396372361, 59.999997591744204, 59.99999914753195)\n"
     ]
    }
   ],
   "source": [
    "# Calcul et affichage des vecteurs de base du réseau direct\n",
    "a = data.lattice.a\n",
    "alpha = data.lattice.alpha\n",
    "print(\"Vecteurs de base du réseau direct :\")\n",
    "print(SpacegroupAnalyzer(data).find_primitive().lattice.rhombohedral(a,alpha).matrix)\n",
    "print(\"\\n\")\n",
    "print(\"Normes des vecteurs :\\n\", réseau_direct.abc)\n",
    "print(\"\\n\")\n",
    "print(\"Angles : \\n\", réseau_direct.angles)"
   ]
  },
  {
   "cell_type": "markdown",
   "id": "4e4a0889",
   "metadata": {},
   "source": [
    "## Réseau réciproque"
   ]
  },
  {
   "cell_type": "code",
   "execution_count": 11,
   "id": "0267ef61",
   "metadata": {},
   "outputs": [
    {
     "name": "stdout",
     "output_type": "stream",
     "text": [
      "Vecteurs de base du réseau réciproque :\n",
      "\n",
      "[[ 1.61580683 -0.57127398  0.        ]\n",
      " [ 0.          1.71382194  0.        ]\n",
      " [-0.80790341 -0.57127398  1.39932976]]\n",
      "\n",
      "\n",
      "Normes des vecteurs :\n",
      " (1.7138218997782049, 1.7138221503961464, 1.7138218645316656)\n",
      "\n",
      "\n",
      "Angles : \n",
      " (109.4712266962044, 109.4712207716716, 109.47121823108051)\n"
     ]
    }
   ],
   "source": [
    "# Réseau réciproque\n",
    "réseau_réciproque = prim_struc.lattice.reciprocal_lattice\n",
    "\n",
    "# Calcul et affichage des vecteurs de base du réseau réciproque\n",
    "print(\"Vecteurs de base du réseau réciproque :\\n\")\n",
    "print(sga.find_primitive().lattice.rhombohedral(a,alpha).reciprocal_lattice.matrix)\n",
    "print(\"\\n\")\n",
    "print(\"Normes des vecteurs :\\n\", réseau_réciproque.abc)\n",
    "print(\"\\n\")\n",
    "print(\"Angles : \\n\", réseau_réciproque.angles)"
   ]
  },
  {
   "cell_type": "markdown",
   "id": "c4de7541",
   "metadata": {},
   "source": [
    "# Données supplémentaires"
   ]
  },
  {
   "cell_type": "markdown",
   "id": "90d0adf9",
   "metadata": {},
   "source": [
    "## Type de maille"
   ]
  },
  {
   "cell_type": "code",
   "execution_count": 12,
   "id": "290cb41a",
   "metadata": {},
   "outputs": [
    {
     "name": "stdout",
     "output_type": "stream",
     "text": [
      "Type de maille : cubic\n"
     ]
    }
   ],
   "source": [
    "# Type de maille\n",
    "type_de_maille = sga.get_lattice_type()\n",
    "print(\"Type de maille :\", type_de_maille)"
   ]
  },
  {
   "cell_type": "markdown",
   "id": "06f56b78",
   "metadata": {},
   "source": [
    "## Système cristallin"
   ]
  },
  {
   "cell_type": "code",
   "execution_count": 13,
   "id": "e88029b9",
   "metadata": {},
   "outputs": [
    {
     "name": "stdout",
     "output_type": "stream",
     "text": [
      "Système cristallin : cubic\n"
     ]
    }
   ],
   "source": [
    "# Système cristallin\n",
    "système_cristallin = sga.get_crystal_system()\n",
    "print(\"Système cristallin :\", système_cristallin)"
   ]
  },
  {
   "cell_type": "markdown",
   "id": "676188e2",
   "metadata": {},
   "source": [
    "## Groupe ponctuel"
   ]
  },
  {
   "cell_type": "code",
   "execution_count": 14,
   "id": "7770b051",
   "metadata": {},
   "outputs": [
    {
     "name": "stdout",
     "output_type": "stream",
     "text": [
      "Groupe ponctuel : -43m\n"
     ]
    }
   ],
   "source": [
    "# Groupe ponctuel\n",
    "groupe_ponctuel = sga.get_point_group_symbol()\n",
    "print(\"Groupe ponctuel :\", groupe_ponctuel)"
   ]
  },
  {
   "cell_type": "markdown",
   "id": "4b5acf1c",
   "metadata": {},
   "source": [
    "# Notes"
   ]
  },
  {
   "cell_type": "markdown",
   "id": "60de65ea",
   "metadata": {},
   "source": [
    "Le groupe d'espace du ScSbPd est : F4̅3m.\n",
    "- La lettre \"F\" signifie que le réseau est \"faces centrées\"\n",
    "- Le chiffre \"-4\" indique la présence d'une roto-inversion d'ordre 4\n",
    "- Le chiffre \"3\" nous indique directement que nous avons affaire à une maille cubique et qu'il existe un axe de rotation d'ordre 3\n",
    "- La lettre \"m\" indique la présence de plans de symétrie miroirs\n",
    "\n",
    "Le système cristallin de la cellule primitive est rhomboédrique (= trigonal) car les vecteurs de base ont tous la même norme et le même angle (60°) entre eux.\n",
    "\n",
    "\n",
    "Les positions de Wyckoff sont fournies ci-dessous : \n",
    "\n",
    "$\\textbf{Wyckoff\tElement\tx\ty\tz}$\n",
    "\n",
    "4a\tSb\t(0\t0\t0)\n",
    "\n",
    "4b\tSc\t(1/2\t0\t0)\n",
    "\n",
    "4c\tPd\t(3/4\t1/4\t3/4)\n",
    "\n",
    "On a donc 4 sites équivalents pour chaque atome dans la maille cristalline."
   ]
  }
 ],
 "metadata": {
  "kernelspec": {
   "display_name": "Python 3 (ipykernel)",
   "language": "python",
   "name": "python3"
  },
  "language_info": {
   "codemirror_mode": {
    "name": "ipython",
    "version": 3
   },
   "file_extension": ".py",
   "mimetype": "text/x-python",
   "name": "python",
   "nbconvert_exporter": "python",
   "pygments_lexer": "ipython3",
   "version": "3.9.13"
  }
 },
 "nbformat": 4,
 "nbformat_minor": 5
}
